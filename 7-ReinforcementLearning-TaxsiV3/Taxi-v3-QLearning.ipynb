{
 "cells": [
  {
   "attachments": {},
   "cell_type": "markdown",
   "id": "f46352a8-ab60-425c-a890-3adb3533bca9",
   "metadata": {},
   "source": [
    "# Taxi\n",
    "https://www.gymlibrary.dev/environments/toy_text/taxi/\n",
    "\n",
    "![Taxi](https://www.gymlibrary.dev/_images/taxi.gif)\n"
   ]
  },
  {
   "cell_type": "code",
   "execution_count": 56,
   "id": "d963dff3-f3e4-43c7-bd0b-bfa01b2c73c4",
   "metadata": {},
   "outputs": [],
   "source": [
    "# environment \n",
    "import gym  \n",
    "import random\n",
    "import numpy as np\n",
    "import matplotlib.pyplot as plt\n",
    "import pandas as pd\n",
    "\n",
    "import warnings\n",
    "warnings.filterwarnings(\"ignore\")"
   ]
  },
  {
   "cell_type": "markdown",
   "id": "f073456b-516e-4e3d-8c00-92cbaffb98c4",
   "metadata": {},
   "source": [
    "## Environment Recognition"
   ]
  },
  {
   "cell_type": "code",
   "execution_count": 57,
   "id": "0f62ff27-9fae-4f11-b569-e60e5d744b37",
   "metadata": {},
   "outputs": [
    {
     "name": "stdout",
     "output_type": "stream",
     "text": [
      "+---------+\n",
      "|R: | : :\u001b[35mG\u001b[0m|\n",
      "| : | : : |\n",
      "| : : : : |\n",
      "|\u001b[43m \u001b[0m| : | : |\n",
      "|Y| : |\u001b[34;1mB\u001b[0m: |\n",
      "+---------+\n",
      "\n",
      "\n"
     ]
    }
   ],
   "source": [
    "# if you want to output text directly to the terminal, you should add render_mode='ansi'.\n",
    "env = gym.make(\"Taxi-v3\",render_mode='ansi')\n",
    "\n",
    "# Ortamı başlangıç durumuna döndürür.\n",
    "env.reset()\n",
    "\n",
    "# Mevcut ortamı görselleştirme\n",
    "print(env.render())"
   ]
  },
  {
   "cell_type": "code",
   "execution_count": 58,
   "id": "8f4f37e7-6afc-4aed-b173-a69f911b9f35",
   "metadata": {},
   "outputs": [
    {
     "name": "stdout",
     "output_type": "stream",
     "text": [
      "Observation Space: 500\n",
      "Action Space: 6\n"
     ]
    }
   ],
   "source": [
    "print(\"Observation Space:\", env.observation_space.n)\n",
    "print(\"Action Space:\", env.action_space.n)"
   ]
  },
  {
   "cell_type": "markdown",
   "id": "a7799822-df5b-449e-bbba-48623f32810d",
   "metadata": {},
   "source": [
    "**500 farklı durum ve 6 farklı aksiyon**"
   ]
  },
  {
   "cell_type": "code",
   "execution_count": 59,
   "id": "714d1648-f3f5-4a4a-a667-7ea93917f4c4",
   "metadata": {},
   "outputs": [
    {
     "data": {
      "text/plain": [
       "(500, 6)"
      ]
     },
     "execution_count": 59,
     "metadata": {},
     "output_type": "execute_result"
    }
   ],
   "source": [
    "# q-table initalize\n",
    "qtable = np.zeros((env.observation_space.n,env.action_space.n))# 500x6\n",
    "qtable.shape"
   ]
  },
  {
   "cell_type": "code",
   "execution_count": 60,
   "id": "3b48ae2f-7139-4fb7-8a18-da2f1bbe8a1b",
   "metadata": {},
   "outputs": [
    {
     "data": {
      "text/plain": [
       "array([[0., 0., 0., 0., 0., 0.],\n",
       "       [0., 0., 0., 0., 0., 0.],\n",
       "       [0., 0., 0., 0., 0., 0.],\n",
       "       [0., 0., 0., 0., 0., 0.],\n",
       "       [0., 0., 0., 0., 0., 0.],\n",
       "       [0., 0., 0., 0., 0., 0.],\n",
       "       [0., 0., 0., 0., 0., 0.],\n",
       "       [0., 0., 0., 0., 0., 0.],\n",
       "       [0., 0., 0., 0., 0., 0.],\n",
       "       [0., 0., 0., 0., 0., 0.]])"
      ]
     },
     "execution_count": 60,
     "metadata": {},
     "output_type": "execute_result"
    }
   ],
   "source": [
    "qtable[:10] # Left Down Right Up Pickup Dropoff"
   ]
  },
  {
   "cell_type": "markdown",
   "id": "28895a6e-b117-467b-8499-6f0478ef4538",
   "metadata": {},
   "source": [
    "* 6 sütun: 6 farklı aksiyon ([\"south\", \"north\", \"east\", \"west\", \"pickup\", \"dropoff\"])"
   ]
  },
  {
   "cell_type": "code",
   "execution_count": 61,
   "id": "e75635b0-23df-4983-aadf-f015b92ddbc9",
   "metadata": {},
   "outputs": [
    {
     "name": "stdout",
     "output_type": "stream",
     "text": [
      "Örnek Gözlem: 161\n"
     ]
    }
   ],
   "source": [
    "print(\"Örnek Gözlem:\", env.observation_space.sample())"
   ]
  },
  {
   "cell_type": "code",
   "execution_count": 62,
   "id": "368dd363-4baa-445c-ac3b-0ccf20b9aa4d",
   "metadata": {},
   "outputs": [
    {
     "name": "stdout",
     "output_type": "stream",
     "text": [
      "Örnek Aksiyon: 3\n"
     ]
    }
   ],
   "source": [
    "print(\"Örnek Aksiyon:\", env.action_space.sample())"
   ]
  },
  {
   "cell_type": "code",
   "execution_count": 63,
   "id": "e563e35b-2826-439b-8544-56b39bec7aa2",
   "metadata": {},
   "outputs": [
    {
     "name": "stdout",
     "output_type": "stream",
     "text": [
      "EnvSpec(id='Taxi-v3', entry_point='gym.envs.toy_text.taxi:TaxiEnv', reward_threshold=8, nondeterministic=False, max_episode_steps=200, order_enforce=True, autoreset=False, disable_env_checker=False, apply_api_compatibility=False, kwargs={'render_mode': 'ansi'}, namespace=None, name='Taxi', version=3)\n"
     ]
    }
   ],
   "source": [
    "print(env.spec)"
   ]
  },
  {
   "cell_type": "markdown",
   "id": "349dc1f1-010c-4f11-a63c-b9816b3e3c05",
   "metadata": {},
   "source": [
    "**Observations**\n",
    "\n",
    "* **25 (5x5) farklı taksi konumu x 5 farklı yolcu pozisyonu x 4 farklı varış noktası = 500 durum**\n",
    "\n",
    "**Her bir durum, taksinin konumu, yolcunun pozisyonu ve varış noktasına göre belirlenen bir kombinasyondur.**\n",
    "\n",
    "- Passenger locations:  0: R(ed) , 1: G(reen) , 2: Y(ellow) , 3: B(lue) , 4: in taxi\n",
    "\n",
    "- Destinations: 0: R(ed) , 1: G(reen) , 2: Y(ellow) , 3: B(lue)"
   ]
  },
  {
   "cell_type": "markdown",
   "id": "9f68ec75-61cd-483a-8d77-0d9e512a0c0a",
   "metadata": {},
   "source": [
    "**Actions**\n",
    "\n",
    "* 0: move south (güney) , 1: move north (kuzey) , 2: move east (doğu) , 3: move west (batı) ,\n",
    "4: pickup passenger (yolcu al) , 5: drop off passenger (yolcu bırak)**\n",
    "\n",
    "\n",
    "**Rewards**\n",
    "* -1 : Her adımda -1 puan (diğer reward lar gerçekleşmediğinde) (gereksiz hareketleri engellemek için )\n",
    "\n",
    "* +20 : Yolcuyu başarıyla bırakınca +20 puan\n",
    "\n",
    "* -10 : Yanlış \"biniş\" veya \"iniş\" hareketinde -10 puan\n"
   ]
  },
  {
   "cell_type": "markdown",
   "id": "3385a524-ab72-4b75-ad5f-56c8dbf51f92",
   "metadata": {},
   "source": [
    "## Q-learning\n",
    "\n",
    "Q-learning, takviyeli öğrenme (Reinforcement Learning) algoritmasıdır ve bir ajanı, ödülleri en üst düzeye çıkaracak şekilde optimal bir yöntem öğrenmeyi amaçlar.\n",
    "\n",
    "* 1 - Ajan, bir durum (state) içinde belirli bir eylem (action) seçer,\n",
    "* 2- Ardından bir ödül (reward) alır ve bir sonraki duruma (next state) geçer. \n",
    "* 3- Q-table öğrenilen bilgiye göre güncellenir.\n",
    "* 4- Ajan, öğrenme süreci boyunca farklı yollar dener ve en iyi stratejiyi bulur.\n",
    "* 5- Episode tamamlandığında, ajan bir sonraki episode’a başlar ve zamanla Q-table’daki değerler en iyi hareketleri gösterecek şekilde güncellenir.\n",
    "* Q-table, her durum için en iyi eylemleri içeren bir harita (matris) haline gelir. "
   ]
  },
  {
   "cell_type": "code",
   "execution_count": 115,
   "id": "7660fb99-3575-4667-a971-8cd201f8c6a9",
   "metadata": {},
   "outputs": [],
   "source": [
    "env = gym.make(\"Taxi-v3\",render_mode='ansi')\n",
    "env.reset()\n",
    "# q-table initalize\n",
    "qtable = np.zeros((env.observation_space.n,env.action_space.n))# 500x6"
   ]
  },
  {
   "cell_type": "code",
   "execution_count": 116,
   "id": "c154839b-8ba8-4c9c-92a9-fbba0dac11ae",
   "metadata": {},
   "outputs": [],
   "source": [
    "# Q-Learning hiperparametre\n",
    "episodes = 500 \n",
    "alpha = 0.4  # (Learning Rate)\n",
    "gamma = 0.9  # (γ) - Discount Factor ; Gelecekteki ödüllerin (rewards) önem değeri\n",
    "# 0.9 için ; Taksi, hemen ödül almak yerine yolcuyu doğru yere bırakmayı öncelikli hale getirir.\n",
    "epsilon = 0.4 # Keşif Oranı (rastgele hareket)"
   ]
  },
  {
   "cell_type": "markdown",
   "id": "f67daa6c-0c9f-433a-8773-ab88b367d273",
   "metadata": {},
   "source": [
    "**=> Çok fazla rastgele hareket büyük ceza getirir. Gereksiz hareketlerden kaçınmalıyız.**"
   ]
  },
  {
   "cell_type": "markdown",
   "id": "acd1c36b-095b-4704-9afd-9a79b7f722e7",
   "metadata": {},
   "source": [
    "Q-learning **\"off-policy\"** bir yöntemdir, yani ajan şu anki stratejisinden bağımsız olarak **gelecekteki en iyi hareketi** öğrenmeye çalışır."
   ]
  },
  {
   "cell_type": "code",
   "execution_count": 117,
   "id": "8555d1a0-deac-4604-bbcb-9cae95155854",
   "metadata": {},
   "outputs": [],
   "source": [
    "reward_history = [] \n",
    "epsilon_history = []\n",
    "#  Training\n",
    "for _ in range(episodes):\n",
    "    current_state,_ = env.reset() # agentın bulunduğu state değerini al\n",
    "    done = False \n",
    "    \n",
    "    while not done:\n",
    "\n",
    "        if np.random.uniform(0, 1) < epsilon:\n",
    "            action = env.action_space.sample()# Keşif (exploration) \n",
    "        else:\n",
    "            action = np.argmax(qtable[current_state])# Q-table daki en iyi aksiyonu seç (exploitation)  \n",
    "            \n",
    "        next_state, reward, done, truncated, _ = env.step(action)\n",
    "        \n",
    "        # q-table updating \n",
    "        # Yeni öğrenilen değer : (reward + gamma * max(qtable[next_state]))\n",
    "        qtable[current_state,action] += alpha*(reward+gamma*np.max(qtable[next_state]) - qtable[current_state,action])\n",
    "        \n",
    "        # update state\n",
    "        current_state = next_state  # Update current state\n",
    "\n",
    "        reward_history.append(reward)\n",
    "\n",
    "    epsilon_history.append(epsilon)\n",
    "    epsilon = max(0.01, epsilon * 0.997) \n"
   ]
  },
  {
   "cell_type": "code",
   "execution_count": 118,
   "id": "e0b71da3-adb5-4eb4-aaec-9d1f99438f8f",
   "metadata": {},
   "outputs": [
    {
     "data": {
      "image/png": "[encoded data removed]",
      "text/plain": [
       "<Figure size 1000x500 with 1 Axes>"
      ]
     },
     "metadata": {},
     "output_type": "display_data"
    }
   ],
   "source": [
    "plt.figure(figsize=(10, 5))\n",
    "plt.plot(reward_history, label=\"Reward\", color=\"blue\", alpha=0.7)\n",
    "plt.xlabel(\"Step\")\n",
    "plt.ylabel(\"Rewrd\")\n",
    "plt.title(\"Taxi-v3 Reward History\")\n",
    "plt.legend()\n",
    "plt.show()"
   ]
  },
  {
   "cell_type": "code",
   "execution_count": 119,
   "id": "13c7cadc-8449-4717-996c-00fd7bc2828e",
   "metadata": {},
   "outputs": [
    {
     "data": {
      "text/html": [
       "<div>\n",
       "<style scoped>\n",
       "    .dataframe tbody tr th:only-of-type {\n",
       "        vertical-align: middle;\n",
       "    }\n",
       "\n",
       "    .dataframe tbody tr th {\n",
       "        vertical-align: top;\n",
       "    }\n",
       "\n",
       "    .dataframe thead th {\n",
       "        text-align: right;\n",
       "    }\n",
       "</style>\n",
       "<table border=\"1\" class=\"dataframe\">\n",
       "  <thead>\n",
       "    <tr style=\"text-align: right;\">\n",
       "      <th></th>\n",
       "      <th>Reward</th>\n",
       "      <th>Count</th>\n",
       "    </tr>\n",
       "  </thead>\n",
       "  <tbody>\n",
       "    <tr>\n",
       "      <th>0</th>\n",
       "      <td>-1</td>\n",
       "      <td>32348</td>\n",
       "    </tr>\n",
       "    <tr>\n",
       "      <th>1</th>\n",
       "      <td>-10</td>\n",
       "      <td>4266</td>\n",
       "    </tr>\n",
       "    <tr>\n",
       "      <th>2</th>\n",
       "      <td>20</td>\n",
       "      <td>500</td>\n",
       "    </tr>\n",
       "  </tbody>\n",
       "</table>\n",
       "</div>"
      ],
      "text/plain": [
       "   Reward  Count\n",
       "0      -1  32348\n",
       "1     -10   4266\n",
       "2      20    500"
      ]
     },
     "execution_count": 119,
     "metadata": {},
     "output_type": "execute_result"
    }
   ],
   "source": [
    "reward_df = pd.DataFrame({'Reward': reward_history})\n",
    "\n",
    "reward_counts = reward_df['Reward'].value_counts().reset_index()\n",
    "reward_counts.columns = ['Reward', 'Count']\n",
    "\n",
    "reward_counts"
   ]
  },
  {
   "cell_type": "code",
   "execution_count": 120,
   "id": "355478c9-50a2-4020-b03f-1e1dabdb2246",
   "metadata": {},
   "outputs": [
    {
     "data": {
      "image/png": "[encoded data removed]",
      "text/plain": [
       "<Figure size 800x500 with 1 Axes>"
      ]
     },
     "metadata": {},
     "output_type": "display_data"
    }
   ],
   "source": [
    "plt.figure(figsize=(8, 5))\n",
    "plt.plot(range(episodes), epsilon_history, color='blue', label='Epsilon')\n",
    "plt.xlabel('Episodes')\n",
    "plt.ylabel('Epsilon')\n",
    "plt.title('Epsilon Change in Time')\n",
    "plt.legend()\n",
    "plt.grid(True)\n",
    "plt.show()"
   ]
  },
  {
   "cell_type": "code",
   "execution_count": 121,
   "id": "f2771b1b-ca51-4c6b-a2ad-ccd3bf8eec9a",
   "metadata": {},
   "outputs": [
    {
     "data": {
      "text/plain": [
       "array([[  0.        ,   0.        ,   0.        ,   0.        ,\n",
       "          0.        ,   0.        ],\n",
       "       [ -5.03300867,  -2.51128196,  -4.7988665 ,  -3.16177916,\n",
       "          1.62260712, -11.82508127],\n",
       "       [ -1.51430963,   0.93695582,  -2.45312077,   2.59492725,\n",
       "          7.71469662,  -5.09343521],\n",
       "       [ -4.19824614,  -0.71274058,  -4.02182269,  -3.80356896,\n",
       "          2.91399633,  -9.20763572],\n",
       "       [ -5.95553969,  -6.00497467,  -5.97074223,  -5.92518689,\n",
       "        -13.08115925, -12.35769524],\n",
       "       [  0.        ,   0.        ,   0.        ,   0.        ,\n",
       "          0.        ,   0.        ],\n",
       "       [ -6.52803418,  -6.54660401,  -6.44562861,  -6.54019152,\n",
       "         -7.29478908, -12.07827848],\n",
       "       [ -5.09184772,  -4.92101229,  -4.97754901,  -5.09725142,\n",
       "        -12.61312421, -11.36718827],\n",
       "       [ -1.82766139,  -4.59490167,  -4.50169914,  -4.49798607,\n",
       "        -12.46159329, -13.22375932],\n",
       "       [ -4.81128746,  -6.05375357,  -6.06361991,  -6.02644829,\n",
       "        -13.11620926, -12.77163245]])"
      ]
     },
     "execution_count": 121,
     "metadata": {},
     "output_type": "execute_result"
    }
   ],
   "source": [
    "qtable[:10]"
   ]
  },
  {
   "cell_type": "code",
   "execution_count": 130,
   "id": "8f5b2edd-be57-458e-9579-d1de076b76cd",
   "metadata": {},
   "outputs": [
    {
     "data": {
      "text/plain": [
       "(52, {'prob': 1.0, 'action_mask': array([1, 0, 1, 0, 0, 0], dtype=int8)})"
      ]
     },
     "execution_count": 130,
     "metadata": {},
     "output_type": "execute_result"
    }
   ],
   "source": [
    "env.reset()"
   ]
  },
  {
   "cell_type": "markdown",
   "id": "d5cdb4d7-6c15-496e-ba79-4e3fff0bfaea",
   "metadata": {},
   "source": [
    "## Evaluation (Sonuçları Değerlendirme)\n",
    "\n",
    "✅ Öğrenilen Q-tablosunu kullanarak ajanı rastgele keşif yapmadan ajanı test edelim.\n",
    "Rastgelelik olmadan **(ε = 0)** ile q-table da dolaşalım."
   ]
  },
  {
   "cell_type": "code",
   "execution_count": 131,
   "id": "e94aca68-23c3-4da2-9b63-ba545ec3b659",
   "metadata": {
    "scrolled": true
   },
   "outputs": [
    {
     "name": "stdout",
     "output_type": "stream",
     "text": [
      "Episode 1 finished in 8 steps\n",
      "Episode 2 finished in 200 steps\n",
      "Episode 3 finished in 12 steps\n",
      "Episode 4 finished in 11 steps\n",
      "Episode 5 finished in 9 steps\n",
      "Episode 6 finished in 12 steps\n",
      "Episode 7 finished in 16 steps\n",
      "Episode 8 finished in 13 steps\n",
      "Episode 9 finished in 14 steps\n",
      "Episode 10 finished in 200 steps\n",
      "Episode 11 finished in 10 steps\n",
      "Episode 12 finished in 200 steps\n",
      "Episode 13 finished in 8 steps\n",
      "Episode 14 finished in 11 steps\n",
      "Episode 15 finished in 14 steps\n",
      "Episode 16 finished in 14 steps\n",
      "Episode 17 finished in 14 steps\n",
      "Episode 18 finished in 200 steps\n",
      "Episode 19 finished in 200 steps\n",
      "Episode 20 finished in 8 steps\n",
      "Episode 21 finished in 200 steps\n",
      "Episode 22 finished in 10 steps\n",
      "Episode 23 finished in 13 steps\n",
      "Episode 24 finished in 13 steps\n",
      "Episode 25 finished in 200 steps\n",
      "Episode 26 finished in 16 steps\n",
      "Episode 27 finished in 10 steps\n",
      "Episode 28 finished in 15 steps\n",
      "Episode 29 finished in 14 steps\n",
      "Episode 30 finished in 13 steps\n",
      "Episode 31 finished in 14 steps\n",
      "Episode 32 finished in 10 steps\n",
      "Episode 33 finished in 200 steps\n",
      "Episode 34 finished in 11 steps\n",
      "Episode 35 finished in 12 steps\n",
      "Episode 36 finished in 12 steps\n",
      "Episode 37 finished in 7 steps\n",
      "Episode 38 finished in 14 steps\n",
      "Episode 39 finished in 15 steps\n",
      "Episode 40 finished in 200 steps\n",
      "Episode 41 finished in 14 steps\n",
      "Episode 42 finished in 200 steps\n",
      "Episode 43 finished in 10 steps\n",
      "Episode 44 finished in 12 steps\n",
      "Episode 45 finished in 11 steps\n",
      "Episode 46 finished in 11 steps\n",
      "Episode 47 finished in 12 steps\n",
      "Episode 48 finished in 17 steps\n",
      "Episode 49 finished in 7 steps\n",
      "Episode 50 finished in 11 steps\n",
      "Episode 51 finished in 11 steps\n",
      "Episode 52 finished in 11 steps\n",
      "Episode 53 finished in 12 steps\n",
      "Episode 54 finished in 13 steps\n",
      "Episode 55 finished in 200 steps\n",
      "Episode 56 finished in 15 steps\n",
      "Episode 57 finished in 14 steps\n",
      "Episode 58 finished in 15 steps\n",
      "Episode 59 finished in 200 steps\n",
      "Episode 60 finished in 11 steps\n",
      "Episode 61 finished in 13 steps\n",
      "Episode 62 finished in 200 steps\n",
      "Episode 63 finished in 14 steps\n",
      "Episode 64 finished in 11 steps\n",
      "Episode 65 finished in 12 steps\n",
      "Episode 66 finished in 12 steps\n",
      "Episode 67 finished in 12 steps\n",
      "Episode 68 finished in 13 steps\n",
      "Episode 69 finished in 12 steps\n",
      "Episode 70 finished in 14 steps\n",
      "Episode 71 finished in 15 steps\n",
      "Episode 72 finished in 12 steps\n",
      "Episode 73 finished in 9 steps\n",
      "Episode 74 finished in 12 steps\n",
      "Episode 75 finished in 200 steps\n",
      "Episode 76 finished in 200 steps\n",
      "Episode 77 finished in 11 steps\n",
      "Episode 78 finished in 200 steps\n",
      "Episode 79 finished in 11 steps\n",
      "Episode 80 finished in 10 steps\n",
      "Episode 81 finished in 14 steps\n",
      "Episode 82 finished in 13 steps\n",
      "Episode 83 finished in 12 steps\n",
      "Episode 84 finished in 9 steps\n",
      "Episode 85 finished in 15 steps\n",
      "Episode 86 finished in 200 steps\n",
      "Episode 87 finished in 15 steps\n",
      "Episode 88 finished in 15 steps\n",
      "Episode 89 finished in 9 steps\n",
      "Episode 90 finished in 200 steps\n",
      "Episode 91 finished in 14 steps\n",
      "Episode 92 finished in 200 steps\n",
      "Episode 93 finished in 13 steps\n",
      "Episode 94 finished in 11 steps\n",
      "Episode 95 finished in 15 steps\n",
      "Episode 96 finished in 10 steps\n",
      "Episode 97 finished in 200 steps\n",
      "Episode 98 finished in 200 steps\n",
      "Episode 99 finished in 14 steps\n",
      "Episode 100 finished in 200 steps\n"
     ]
    }
   ],
   "source": [
    "test_episodes = 100\n",
    "MAX_STEPS = 200\n",
    "\n",
    "total_penalties = [] \n",
    "total_steps = [] \n",
    "successful_dropoffs = 0\n",
    "\n",
    "for episode in range(test_episodes):\n",
    "    state, _ = env.reset()\n",
    "    done = False\n",
    "    episode_penalties = 0    \n",
    "    episode_steps = 0\n",
    "\n",
    "    while not done and episode_steps < MAX_STEPS:\n",
    "        action = np.argmax(qtable[state])  \n",
    "        next_state, reward, done, _, _ = env.step(action)\n",
    "        \n",
    "        episode_penalties += reward\n",
    "        episode_steps += 1 \n",
    "        state = next_state\n",
    "        \n",
    "        if reward == 20:\n",
    "            successful_dropoffs += 1\n",
    "        \n",
    "    total_penalties.append(episode_penalties) \n",
    "    total_steps.append(episode_steps) \n",
    "    print(f\"Episode {episode+1} finished in {episode_steps} steps\")\n",
    "\n",
    "avg_steps = np.mean(total_steps)\n",
    "avg_penalties = sum(total_penalties) / test_episodes\n",
    "success_rate = successful_dropoffs / test_episodes * 100"
   ]
  },
  {
   "cell_type": "code",
   "execution_count": 132,
   "id": "16900882-d6a7-487d-bedf-1139acb2fb77",
   "metadata": {},
   "outputs": [
    {
     "name": "stdout",
     "output_type": "stream",
     "text": [
      "\n",
      "✅ Average steps per episode: 53.52\n",
      "✅ Average penalty per episode: -37.14\n",
      "✅ Success rate: 78.00%\n"
     ]
    }
   ],
   "source": [
    "print(f\"\\n✅ Average steps per episode: {avg_steps:.2f}\")\n",
    "print(f\"✅ Average penalty per episode: {avg_penalties:.2f}\")\n",
    "print(f\"✅ Success rate: {success_rate:.2f}%\")"
   ]
  },
  {
   "cell_type": "code",
   "execution_count": 133,
   "id": "27ce7c62-5f76-4c8e-89e5-84fc5803bb54",
   "metadata": {},
   "outputs": [
    {
     "data": {
      "image/png": "[encoded data removed]",
      "text/plain": [
       "<Figure size 600x500 with 1 Axes>"
      ]
     },
     "metadata": {},
     "output_type": "display_data"
    }
   ],
   "source": [
    "labels = ['Success', 'Failure']\n",
    "values = [successful_dropoffs, test_episodes - successful_dropoffs]\n",
    "\n",
    "plt.figure(figsize=(6, 5))\n",
    "plt.bar(labels, values, color=['green', 'red'])\n",
    "plt.title(' Successful vs Failed Dropouts')\n",
    "plt.ylabel('Episode Number')\n",
    "plt.show()"
   ]
  },
  {
   "cell_type": "code",
   "execution_count": null,
   "id": "d14c73b2-d296-4bde-9c5b-a408cf918943",
   "metadata": {},
   "outputs": [],
   "source": []
  }
 ],
 "metadata": {
  "kernelspec": {
   "display_name": "Python 3 (ipykernel)",
   "language": "python",
   "name": "python3"
  },
  "language_info": {
   "codemirror_mode": {
    "name": "ipython",
    "version": 3
   },
   "file_extension": ".py",
   "mimetype": "text/x-python",
   "name": "python",
   "nbconvert_exporter": "python",
   "pygments_lexer": "ipython3",
   "version": "3.11.1"
  }
 },
 "nbformat": 4,
 "nbformat_minor": 5
}
