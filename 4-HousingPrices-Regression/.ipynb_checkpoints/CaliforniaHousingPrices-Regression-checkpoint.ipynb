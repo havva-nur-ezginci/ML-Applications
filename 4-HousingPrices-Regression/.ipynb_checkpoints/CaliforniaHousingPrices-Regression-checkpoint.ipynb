{
 "cells": [
  {
   "cell_type": "markdown",
   "id": "1b3650fb-0a87-4bfb-8e50-37c48fdd4f8c",
   "metadata": {},
   "source": [
    "# California Housing Prices\n",
    "\n",
    "https://www.kaggle.com/datasets/camnugent/california-housing-prices\n",
    "\n",
    "**target => median_house_value**\n"
   ]
  },
  {
   "cell_type": "code",
   "execution_count": 51,
   "id": "206e04e9-63a5-407e-8b7a-e62b86ca837d",
   "metadata": {},
   "outputs": [],
   "source": [
    "import kaggle\n",
    "import os\n",
    "import numpy as np\n",
    "import pandas as pd\n",
    "import matplotlib.pyplot as plt\n",
    "import seaborn as sns\n",
    "\n",
    "import missingno as msno\n",
    "from sklearn.impute import KNNImputer\n",
    "\n",
    "from sklearn.model_selection import train_test_split,GridSearchCV\n",
    "from sklearn.preprocessing import StandardScaler\n",
    "\n",
    "from sklearn.linear_model import LinearRegression,Ridge,Lasso,ElasticNet\n",
    "from sklearn.tree import DecisionTreeRegressor\n",
    "from sklearn.neighbors import KNeighborsRegressor\n",
    "\n",
    "from sklearn.metrics import mean_squared_error,r2_score\n",
    "\n",
    "import warnings\n",
    "warnings.filterwarnings(\"ignore\")"
   ]
  },
  {
   "cell_type": "markdown",
   "id": "54ef3b9b-ca1e-4de8-b143-15ddcc6684f6",
   "metadata": {},
   "source": [
    "## Data Loading and Preprocessing"
   ]
  },
  {
   "cell_type": "code",
   "execution_count": 53,
   "id": "c160e76b-0bf0-452c-b08f-a794ed7660e9",
   "metadata": {},
   "outputs": [],
   "source": [
    "dataset = \"camnugent/california-housing-prices\"\n",
    "file_path = \"./housing.csv\" \n",
    "\n",
    "\n",
    "if not os.path.exists(file_path):\n",
    "    kaggle.api.dataset_download_files(dataset, path=\"./\", unzip=True)\n",
    "\n",
    "file_path = \"./housing.csv\" \n",
    "df = pd.read_csv(file_path)\n"
   ]
  },
  {
   "cell_type": "code",
   "execution_count": 54,
   "id": "65400310-29b7-4ca2-adf8-6df51c2d51ce",
   "metadata": {},
   "outputs": [
    {
     "data": {
      "text/html": [
       "<div>\n",
       "<style scoped>\n",
       "    .dataframe tbody tr th:only-of-type {\n",
       "        vertical-align: middle;\n",
       "    }\n",
       "\n",
       "    .dataframe tbody tr th {\n",
       "        vertical-align: top;\n",
       "    }\n",
       "\n",
       "    .dataframe thead th {\n",
       "        text-align: right;\n",
       "    }\n",
       "</style>\n",
       "<table border=\"1\" class=\"dataframe\">\n",
       "  <thead>\n",
       "    <tr style=\"text-align: right;\">\n",
       "      <th></th>\n",
       "      <th>longitude</th>\n",
       "      <th>latitude</th>\n",
       "      <th>housing_median_age</th>\n",
       "      <th>total_rooms</th>\n",
       "      <th>total_bedrooms</th>\n",
       "      <th>population</th>\n",
       "      <th>households</th>\n",
       "      <th>median_income</th>\n",
       "      <th>median_house_value</th>\n",
       "      <th>ocean_proximity</th>\n",
       "    </tr>\n",
       "  </thead>\n",
       "  <tbody>\n",
       "    <tr>\n",
       "      <th>0</th>\n",
       "      <td>-122.23</td>\n",
       "      <td>37.88</td>\n",
       "      <td>41.0</td>\n",
       "      <td>880.0</td>\n",
       "      <td>129.0</td>\n",
       "      <td>322.0</td>\n",
       "      <td>126.0</td>\n",
       "      <td>8.3252</td>\n",
       "      <td>452600.0</td>\n",
       "      <td>NEAR BAY</td>\n",
       "    </tr>\n",
       "    <tr>\n",
       "      <th>1</th>\n",
       "      <td>-122.22</td>\n",
       "      <td>37.86</td>\n",
       "      <td>21.0</td>\n",
       "      <td>7099.0</td>\n",
       "      <td>1106.0</td>\n",
       "      <td>2401.0</td>\n",
       "      <td>1138.0</td>\n",
       "      <td>8.3014</td>\n",
       "      <td>358500.0</td>\n",
       "      <td>NEAR BAY</td>\n",
       "    </tr>\n",
       "    <tr>\n",
       "      <th>2</th>\n",
       "      <td>-122.24</td>\n",
       "      <td>37.85</td>\n",
       "      <td>52.0</td>\n",
       "      <td>1467.0</td>\n",
       "      <td>190.0</td>\n",
       "      <td>496.0</td>\n",
       "      <td>177.0</td>\n",
       "      <td>7.2574</td>\n",
       "      <td>352100.0</td>\n",
       "      <td>NEAR BAY</td>\n",
       "    </tr>\n",
       "    <tr>\n",
       "      <th>3</th>\n",
       "      <td>-122.25</td>\n",
       "      <td>37.85</td>\n",
       "      <td>52.0</td>\n",
       "      <td>1274.0</td>\n",
       "      <td>235.0</td>\n",
       "      <td>558.0</td>\n",
       "      <td>219.0</td>\n",
       "      <td>5.6431</td>\n",
       "      <td>341300.0</td>\n",
       "      <td>NEAR BAY</td>\n",
       "    </tr>\n",
       "    <tr>\n",
       "      <th>4</th>\n",
       "      <td>-122.25</td>\n",
       "      <td>37.85</td>\n",
       "      <td>52.0</td>\n",
       "      <td>1627.0</td>\n",
       "      <td>280.0</td>\n",
       "      <td>565.0</td>\n",
       "      <td>259.0</td>\n",
       "      <td>3.8462</td>\n",
       "      <td>342200.0</td>\n",
       "      <td>NEAR BAY</td>\n",
       "    </tr>\n",
       "  </tbody>\n",
       "</table>\n",
       "</div>"
      ],
      "text/plain": [
       "   longitude  latitude  housing_median_age  total_rooms  total_bedrooms  \\\n",
       "0    -122.23     37.88                41.0        880.0           129.0   \n",
       "1    -122.22     37.86                21.0       7099.0          1106.0   \n",
       "2    -122.24     37.85                52.0       1467.0           190.0   \n",
       "3    -122.25     37.85                52.0       1274.0           235.0   \n",
       "4    -122.25     37.85                52.0       1627.0           280.0   \n",
       "\n",
       "   population  households  median_income  median_house_value ocean_proximity  \n",
       "0       322.0       126.0         8.3252            452600.0        NEAR BAY  \n",
       "1      2401.0      1138.0         8.3014            358500.0        NEAR BAY  \n",
       "2       496.0       177.0         7.2574            352100.0        NEAR BAY  \n",
       "3       558.0       219.0         5.6431            341300.0        NEAR BAY  \n",
       "4       565.0       259.0         3.8462            342200.0        NEAR BAY  "
      ]
     },
     "execution_count": 54,
     "metadata": {},
     "output_type": "execute_result"
    }
   ],
   "source": [
    "df.head()"
   ]
  },
  {
   "cell_type": "code",
   "execution_count": 55,
   "id": "ac8f6172-85e2-4f2f-b6ed-03ee3f34a28b",
   "metadata": {},
   "outputs": [
    {
     "data": {
      "text/plain": [
       "Index(['longitude', 'latitude', 'housing_median_age', 'total_rooms',\n",
       "       'total_bedrooms', 'population', 'households', 'median_income',\n",
       "       'median_house_value', 'ocean_proximity'],\n",
       "      dtype='object')"
      ]
     },
     "execution_count": 55,
     "metadata": {},
     "output_type": "execute_result"
    }
   ],
   "source": [
    "df.columns"
   ]
  },
  {
   "cell_type": "markdown",
   "id": "cf9c1e7f-8825-4a4b-b0ab-fe73ce8bcb2f",
   "metadata": {},
   "source": [
    "* longitude, latitude → Evlerin konumu\n",
    "* housing_median_age → Blokiçindeki evlerin medyan yaşı\n",
    "* total_rooms, total_bedrooms → Toplam oda ve banyo sayısı\n",
    "* population, households → Mahalledeki nüfus ve hane sayısı\n",
    "* median_income → Mahalledeki hanelerin medyan geliri\n",
    "* median_house_value → Hedef değişken (ev fiyatları)\n",
    "* ocean_proximity → Evlerin denize yakınlığı (kategorik)"
   ]
  },
  {
   "cell_type": "code",
   "execution_count": 56,
   "id": "53e1f21d-71e9-4f7e-bb3b-871f3e9efef1",
   "metadata": {},
   "outputs": [
    {
     "name": "stdout",
     "output_type": "stream",
     "text": [
      "<class 'pandas.core.frame.DataFrame'>\n",
      "RangeIndex: 20640 entries, 0 to 20639\n",
      "Data columns (total 10 columns):\n",
      " #   Column              Non-Null Count  Dtype  \n",
      "---  ------              --------------  -----  \n",
      " 0   longitude           20640 non-null  float64\n",
      " 1   latitude            20640 non-null  float64\n",
      " 2   housing_median_age  20640 non-null  float64\n",
      " 3   total_rooms         20640 non-null  float64\n",
      " 4   total_bedrooms      20433 non-null  float64\n",
      " 5   population          20640 non-null  float64\n",
      " 6   households          20640 non-null  float64\n",
      " 7   median_income       20640 non-null  float64\n",
      " 8   median_house_value  20640 non-null  float64\n",
      " 9   ocean_proximity     20640 non-null  object \n",
      "dtypes: float64(9), object(1)\n",
      "memory usage: 1.6+ MB\n"
     ]
    }
   ],
   "source": [
    "df.info()"
   ]
  },
  {
   "cell_type": "code",
   "execution_count": 57,
   "id": "86855679-15bc-4b36-88fb-f4aebd9db9f1",
   "metadata": {},
   "outputs": [
    {
     "data": {
      "text/html": [
       "<div>\n",
       "<style scoped>\n",
       "    .dataframe tbody tr th:only-of-type {\n",
       "        vertical-align: middle;\n",
       "    }\n",
       "\n",
       "    .dataframe tbody tr th {\n",
       "        vertical-align: top;\n",
       "    }\n",
       "\n",
       "    .dataframe thead th {\n",
       "        text-align: right;\n",
       "    }\n",
       "</style>\n",
       "<table border=\"1\" class=\"dataframe\">\n",
       "  <thead>\n",
       "    <tr style=\"text-align: right;\">\n",
       "      <th></th>\n",
       "      <th>count</th>\n",
       "      <th>mean</th>\n",
       "      <th>std</th>\n",
       "      <th>min</th>\n",
       "      <th>25%</th>\n",
       "      <th>50%</th>\n",
       "      <th>75%</th>\n",
       "      <th>max</th>\n",
       "    </tr>\n",
       "  </thead>\n",
       "  <tbody>\n",
       "    <tr>\n",
       "      <th>longitude</th>\n",
       "      <td>20640.0</td>\n",
       "      <td>-119.569704</td>\n",
       "      <td>2.003532</td>\n",
       "      <td>-124.3500</td>\n",
       "      <td>-121.8000</td>\n",
       "      <td>-118.4900</td>\n",
       "      <td>-118.01000</td>\n",
       "      <td>-114.3100</td>\n",
       "    </tr>\n",
       "    <tr>\n",
       "      <th>latitude</th>\n",
       "      <td>20640.0</td>\n",
       "      <td>35.631861</td>\n",
       "      <td>2.135952</td>\n",
       "      <td>32.5400</td>\n",
       "      <td>33.9300</td>\n",
       "      <td>34.2600</td>\n",
       "      <td>37.71000</td>\n",
       "      <td>41.9500</td>\n",
       "    </tr>\n",
       "    <tr>\n",
       "      <th>housing_median_age</th>\n",
       "      <td>20640.0</td>\n",
       "      <td>28.639486</td>\n",
       "      <td>12.585558</td>\n",
       "      <td>1.0000</td>\n",
       "      <td>18.0000</td>\n",
       "      <td>29.0000</td>\n",
       "      <td>37.00000</td>\n",
       "      <td>52.0000</td>\n",
       "    </tr>\n",
       "    <tr>\n",
       "      <th>total_rooms</th>\n",
       "      <td>20640.0</td>\n",
       "      <td>2635.763081</td>\n",
       "      <td>2181.615252</td>\n",
       "      <td>2.0000</td>\n",
       "      <td>1447.7500</td>\n",
       "      <td>2127.0000</td>\n",
       "      <td>3148.00000</td>\n",
       "      <td>39320.0000</td>\n",
       "    </tr>\n",
       "    <tr>\n",
       "      <th>total_bedrooms</th>\n",
       "      <td>20433.0</td>\n",
       "      <td>537.870553</td>\n",
       "      <td>421.385070</td>\n",
       "      <td>1.0000</td>\n",
       "      <td>296.0000</td>\n",
       "      <td>435.0000</td>\n",
       "      <td>647.00000</td>\n",
       "      <td>6445.0000</td>\n",
       "    </tr>\n",
       "    <tr>\n",
       "      <th>population</th>\n",
       "      <td>20640.0</td>\n",
       "      <td>1425.476744</td>\n",
       "      <td>1132.462122</td>\n",
       "      <td>3.0000</td>\n",
       "      <td>787.0000</td>\n",
       "      <td>1166.0000</td>\n",
       "      <td>1725.00000</td>\n",
       "      <td>35682.0000</td>\n",
       "    </tr>\n",
       "    <tr>\n",
       "      <th>households</th>\n",
       "      <td>20640.0</td>\n",
       "      <td>499.539680</td>\n",
       "      <td>382.329753</td>\n",
       "      <td>1.0000</td>\n",
       "      <td>280.0000</td>\n",
       "      <td>409.0000</td>\n",
       "      <td>605.00000</td>\n",
       "      <td>6082.0000</td>\n",
       "    </tr>\n",
       "    <tr>\n",
       "      <th>median_income</th>\n",
       "      <td>20640.0</td>\n",
       "      <td>3.870671</td>\n",
       "      <td>1.899822</td>\n",
       "      <td>0.4999</td>\n",
       "      <td>2.5634</td>\n",
       "      <td>3.5348</td>\n",
       "      <td>4.74325</td>\n",
       "      <td>15.0001</td>\n",
       "    </tr>\n",
       "    <tr>\n",
       "      <th>median_house_value</th>\n",
       "      <td>20640.0</td>\n",
       "      <td>206855.816909</td>\n",
       "      <td>115395.615874</td>\n",
       "      <td>14999.0000</td>\n",
       "      <td>119600.0000</td>\n",
       "      <td>179700.0000</td>\n",
       "      <td>264725.00000</td>\n",
       "      <td>500001.0000</td>\n",
       "    </tr>\n",
       "  </tbody>\n",
       "</table>\n",
       "</div>"
      ],
      "text/plain": [
       "                      count           mean            std         min  \\\n",
       "longitude           20640.0    -119.569704       2.003532   -124.3500   \n",
       "latitude            20640.0      35.631861       2.135952     32.5400   \n",
       "housing_median_age  20640.0      28.639486      12.585558      1.0000   \n",
       "total_rooms         20640.0    2635.763081    2181.615252      2.0000   \n",
       "total_bedrooms      20433.0     537.870553     421.385070      1.0000   \n",
       "population          20640.0    1425.476744    1132.462122      3.0000   \n",
       "households          20640.0     499.539680     382.329753      1.0000   \n",
       "median_income       20640.0       3.870671       1.899822      0.4999   \n",
       "median_house_value  20640.0  206855.816909  115395.615874  14999.0000   \n",
       "\n",
       "                            25%          50%           75%          max  \n",
       "longitude             -121.8000    -118.4900    -118.01000    -114.3100  \n",
       "latitude                33.9300      34.2600      37.71000      41.9500  \n",
       "housing_median_age      18.0000      29.0000      37.00000      52.0000  \n",
       "total_rooms           1447.7500    2127.0000    3148.00000   39320.0000  \n",
       "total_bedrooms         296.0000     435.0000     647.00000    6445.0000  \n",
       "population             787.0000    1166.0000    1725.00000   35682.0000  \n",
       "households             280.0000     409.0000     605.00000    6082.0000  \n",
       "median_income            2.5634       3.5348       4.74325      15.0001  \n",
       "median_house_value  119600.0000  179700.0000  264725.00000  500001.0000  "
      ]
     },
     "execution_count": 57,
     "metadata": {},
     "output_type": "execute_result"
    }
   ],
   "source": [
    "df.describe().T"
   ]
  },
  {
   "cell_type": "code",
   "execution_count": 58,
   "id": "5210e009-152f-4436-ae4f-681748778d6b",
   "metadata": {},
   "outputs": [
    {
     "data": {
      "text/plain": [
       "(20640, 10)"
      ]
     },
     "execution_count": 58,
     "metadata": {},
     "output_type": "execute_result"
    }
   ],
   "source": [
    "df.shape"
   ]
  },
  {
   "cell_type": "code",
   "execution_count": 59,
   "id": "fc7cd2f2-355d-406d-a09f-a89561969b46",
   "metadata": {},
   "outputs": [
    {
     "data": {
      "text/plain": [
       "array(['NEAR BAY', '<1H OCEAN', 'INLAND', 'NEAR OCEAN', 'ISLAND'],\n",
       "      dtype=object)"
      ]
     },
     "execution_count": 59,
     "metadata": {},
     "output_type": "execute_result"
    }
   ],
   "source": [
    "# categoric variable => oceanProximity: Location of the house w.r.t ocean/sea\n",
    "df['ocean_proximity'].unique()"
   ]
  },
  {
   "cell_type": "markdown",
   "id": "d114a472-7111-4215-b384-fe6333dff71a",
   "metadata": {},
   "source": [
    "### Encoding Categorical Column"
   ]
  },
  {
   "cell_type": "code",
   "execution_count": 60,
   "id": "96743b7d-db69-4b8e-b9fd-d4ff7812ac03",
   "metadata": {},
   "outputs": [],
   "source": [
    "# One-Hot Encoding \n",
    "df = pd.get_dummies(df, columns=['ocean_proximity'], drop_first=True)"
   ]
  },
  {
   "cell_type": "code",
   "execution_count": 61,
   "id": "0ad966ac-f6e7-447d-8834-e6d4075c7ffd",
   "metadata": {},
   "outputs": [
    {
     "data": {
      "text/html": [
       "<div>\n",
       "<style scoped>\n",
       "    .dataframe tbody tr th:only-of-type {\n",
       "        vertical-align: middle;\n",
       "    }\n",
       "\n",
       "    .dataframe tbody tr th {\n",
       "        vertical-align: top;\n",
       "    }\n",
       "\n",
       "    .dataframe thead th {\n",
       "        text-align: right;\n",
       "    }\n",
       "</style>\n",
       "<table border=\"1\" class=\"dataframe\">\n",
       "  <thead>\n",
       "    <tr style=\"text-align: right;\">\n",
       "      <th></th>\n",
       "      <th>longitude</th>\n",
       "      <th>latitude</th>\n",
       "      <th>housing_median_age</th>\n",
       "      <th>total_rooms</th>\n",
       "      <th>total_bedrooms</th>\n",
       "      <th>population</th>\n",
       "      <th>households</th>\n",
       "      <th>median_income</th>\n",
       "      <th>median_house_value</th>\n",
       "      <th>ocean_proximity_INLAND</th>\n",
       "      <th>ocean_proximity_ISLAND</th>\n",
       "      <th>ocean_proximity_NEAR BAY</th>\n",
       "      <th>ocean_proximity_NEAR OCEAN</th>\n",
       "    </tr>\n",
       "  </thead>\n",
       "  <tbody>\n",
       "    <tr>\n",
       "      <th>0</th>\n",
       "      <td>-122.23</td>\n",
       "      <td>37.88</td>\n",
       "      <td>41.0</td>\n",
       "      <td>880.0</td>\n",
       "      <td>129.0</td>\n",
       "      <td>322.0</td>\n",
       "      <td>126.0</td>\n",
       "      <td>8.3252</td>\n",
       "      <td>452600.0</td>\n",
       "      <td>False</td>\n",
       "      <td>False</td>\n",
       "      <td>True</td>\n",
       "      <td>False</td>\n",
       "    </tr>\n",
       "    <tr>\n",
       "      <th>1</th>\n",
       "      <td>-122.22</td>\n",
       "      <td>37.86</td>\n",
       "      <td>21.0</td>\n",
       "      <td>7099.0</td>\n",
       "      <td>1106.0</td>\n",
       "      <td>2401.0</td>\n",
       "      <td>1138.0</td>\n",
       "      <td>8.3014</td>\n",
       "      <td>358500.0</td>\n",
       "      <td>False</td>\n",
       "      <td>False</td>\n",
       "      <td>True</td>\n",
       "      <td>False</td>\n",
       "    </tr>\n",
       "    <tr>\n",
       "      <th>2</th>\n",
       "      <td>-122.24</td>\n",
       "      <td>37.85</td>\n",
       "      <td>52.0</td>\n",
       "      <td>1467.0</td>\n",
       "      <td>190.0</td>\n",
       "      <td>496.0</td>\n",
       "      <td>177.0</td>\n",
       "      <td>7.2574</td>\n",
       "      <td>352100.0</td>\n",
       "      <td>False</td>\n",
       "      <td>False</td>\n",
       "      <td>True</td>\n",
       "      <td>False</td>\n",
       "    </tr>\n",
       "    <tr>\n",
       "      <th>3</th>\n",
       "      <td>-122.25</td>\n",
       "      <td>37.85</td>\n",
       "      <td>52.0</td>\n",
       "      <td>1274.0</td>\n",
       "      <td>235.0</td>\n",
       "      <td>558.0</td>\n",
       "      <td>219.0</td>\n",
       "      <td>5.6431</td>\n",
       "      <td>341300.0</td>\n",
       "      <td>False</td>\n",
       "      <td>False</td>\n",
       "      <td>True</td>\n",
       "      <td>False</td>\n",
       "    </tr>\n",
       "    <tr>\n",
       "      <th>4</th>\n",
       "      <td>-122.25</td>\n",
       "      <td>37.85</td>\n",
       "      <td>52.0</td>\n",
       "      <td>1627.0</td>\n",
       "      <td>280.0</td>\n",
       "      <td>565.0</td>\n",
       "      <td>259.0</td>\n",
       "      <td>3.8462</td>\n",
       "      <td>342200.0</td>\n",
       "      <td>False</td>\n",
       "      <td>False</td>\n",
       "      <td>True</td>\n",
       "      <td>False</td>\n",
       "    </tr>\n",
       "  </tbody>\n",
       "</table>\n",
       "</div>"
      ],
      "text/plain": [
       "   longitude  latitude  housing_median_age  total_rooms  total_bedrooms  \\\n",
       "0    -122.23     37.88                41.0        880.0           129.0   \n",
       "1    -122.22     37.86                21.0       7099.0          1106.0   \n",
       "2    -122.24     37.85                52.0       1467.0           190.0   \n",
       "3    -122.25     37.85                52.0       1274.0           235.0   \n",
       "4    -122.25     37.85                52.0       1627.0           280.0   \n",
       "\n",
       "   population  households  median_income  median_house_value  \\\n",
       "0       322.0       126.0         8.3252            452600.0   \n",
       "1      2401.0      1138.0         8.3014            358500.0   \n",
       "2       496.0       177.0         7.2574            352100.0   \n",
       "3       558.0       219.0         5.6431            341300.0   \n",
       "4       565.0       259.0         3.8462            342200.0   \n",
       "\n",
       "   ocean_proximity_INLAND  ocean_proximity_ISLAND  ocean_proximity_NEAR BAY  \\\n",
       "0                   False                   False                      True   \n",
       "1                   False                   False                      True   \n",
       "2                   False                   False                      True   \n",
       "3                   False                   False                      True   \n",
       "4                   False                   False                      True   \n",
       "\n",
       "   ocean_proximity_NEAR OCEAN  \n",
       "0                       False  \n",
       "1                       False  \n",
       "2                       False  \n",
       "3                       False  \n",
       "4                       False  "
      ]
     },
     "execution_count": 61,
     "metadata": {},
     "output_type": "execute_result"
    }
   ],
   "source": [
    "df.head()"
   ]
  },
  {
   "cell_type": "markdown",
   "id": "5aa74807-968c-4401-acad-a78d260411c6",
   "metadata": {},
   "source": [
    "### Imputing Missing Data Using KNN (K-Nearest Neighbors)"
   ]
  },
  {
   "cell_type": "code",
   "execution_count": 62,
   "id": "d1c96f2b-457b-4f6d-8bfe-aea6b293d2d2",
   "metadata": {},
   "outputs": [
    {
     "data": {
      "text/plain": [
       "longitude                       0\n",
       "latitude                        0\n",
       "housing_median_age              0\n",
       "total_rooms                     0\n",
       "total_bedrooms                207\n",
       "population                      0\n",
       "households                      0\n",
       "median_income                   0\n",
       "median_house_value              0\n",
       "ocean_proximity_INLAND          0\n",
       "ocean_proximity_ISLAND          0\n",
       "ocean_proximity_NEAR BAY        0\n",
       "ocean_proximity_NEAR OCEAN      0\n",
       "dtype: int64"
      ]
     },
     "execution_count": 62,
     "metadata": {},
     "output_type": "execute_result"
    }
   ],
   "source": [
    "df.isnull().sum()"
   ]
  },
  {
   "cell_type": "code",
   "execution_count": 63,
   "id": "a003e2ed-0a44-4375-8049-8a4ae08b6010",
   "metadata": {},
   "outputs": [],
   "source": [
    "imputer = KNNImputer(n_neighbors=5)\n",
    "df[['total_bedrooms']] = imputer.fit_transform(df[['total_bedrooms']])"
   ]
  },
  {
   "cell_type": "code",
   "execution_count": 64,
   "id": "eae211e5-2567-42ae-9dc5-7eb27245e2c8",
   "metadata": {},
   "outputs": [
    {
     "data": {
      "text/plain": [
       "longitude                     0\n",
       "latitude                      0\n",
       "housing_median_age            0\n",
       "total_rooms                   0\n",
       "total_bedrooms                0\n",
       "population                    0\n",
       "households                    0\n",
       "median_income                 0\n",
       "median_house_value            0\n",
       "ocean_proximity_INLAND        0\n",
       "ocean_proximity_ISLAND        0\n",
       "ocean_proximity_NEAR BAY      0\n",
       "ocean_proximity_NEAR OCEAN    0\n",
       "dtype: int64"
      ]
     },
     "execution_count": 64,
     "metadata": {},
     "output_type": "execute_result"
    }
   ],
   "source": [
    "df.isnull().sum()"
   ]
  },
  {
   "cell_type": "markdown",
   "id": "95c635dd-783d-4f7f-9f1d-9caf870dd30b",
   "metadata": {},
   "source": [
    "### Correlation Analysis (Kolerasyon Analizi)"
   ]
  },
  {
   "cell_type": "code",
   "execution_count": 65,
   "id": "4baa0ce4-fd4d-46e6-8b60-51acfe4523d4",
   "metadata": {},
   "outputs": [
    {
     "data": {
      "image/png": "[encoded data removed]",
      "text/plain": [
       "<Figure size 1000x600 with 2 Axes>"
      ]
     },
     "metadata": {},
     "output_type": "display_data"
    }
   ],
   "source": [
    "# Korelasyon matrisi\n",
    "corr_matrix = df.corr()\n",
    "\n",
    "plt.figure(figsize=(10, 6))\n",
    "sns.heatmap(corr_matrix, annot=True, cmap=\"coolwarm\", fmt=\".2f\", linewidths=0.5)\n",
    "plt.title(\"Feature Correlation Heatmap\")\n",
    "plt.show()"
   ]
  },
  {
   "cell_type": "code",
   "execution_count": 66,
   "id": "7bbb6005-fc30-4c57-96d9-fc99abb777bf",
   "metadata": {},
   "outputs": [
    {
     "name": "stdout",
     "output_type": "stream",
     "text": [
      "median_house_value            1.000000\n",
      "median_income                 0.688075\n",
      "ocean_proximity_NEAR BAY      0.160284\n",
      "ocean_proximity_NEAR OCEAN    0.141862\n",
      "total_rooms                   0.134153\n",
      "housing_median_age            0.105623\n",
      "households                    0.065843\n",
      "total_bedrooms                0.049454\n",
      "ocean_proximity_ISLAND        0.023416\n",
      "population                   -0.024650\n",
      "longitude                    -0.045967\n",
      "latitude                     -0.144160\n",
      "ocean_proximity_INLAND       -0.484859\n",
      "Name: median_house_value, dtype: float64\n"
     ]
    }
   ],
   "source": [
    "target_corr = df.corr()[\"median_house_value\"].sort_values(ascending=False)\n",
    "print(target_corr)"
   ]
  },
  {
   "cell_type": "markdown",
   "id": "0173e1b6-181b-4e97-b9eb-3eefdee2749a",
   "metadata": {},
   "source": [
    " 📈 Pozitif korelasyon: (Fiyatı Artıran Değişkenler)\n",
    "*  median_income (0.688) → Gelir arttıkça ev fiyatları artıyor.\n",
    "*  ocean_proximity_NEAR BAY (0.160) → Deniz kıyısına yakın evler daha pahalı.\n",
    "*  ocean_proximity_NEAR OCEAN (0.141) → Okyanusa yakın evlerin fiyatı da yüksek.\n",
    "*  total_rooms (0.134) → Daha fazla odası olan evler genelde daha pahalı.\n",
    "*  housing_median_age (0.106) →  Ev yaşı ile fiyat arasında düşük, ancak pozitif bir ilişki var.\n",
    "\n",
    "\n",
    " 📉 Negatif korelasyon: (Fiyatı Azaltan Değişkenler)\n",
    "* ocean_proximity_INLAND (-0.485) → İç bölgelerdeki evlerin fiyatı daha düşük.\n",
    "* latitude (-0.144) → Kuzeye doğru gidildikçe fiyatlar düşüyor.\n",
    "* longitude (-0.046) → Batıya gittikçe fiyatlarda küçük bir düşüş var.\n",
    "* population (-0.025) → Nüfus arttıkça ev fiyatları biraz düşebilir."
   ]
  },
  {
   "cell_type": "code",
   "execution_count": 67,
   "id": "4fad81a6-1d66-42d0-b228-87f70edffd90",
   "metadata": {},
   "outputs": [],
   "source": [
    "X = df.drop([\"median_house_value\"], axis = 1)\n",
    "y = df[[\"median_house_value\"]]"
   ]
  },
  {
   "cell_type": "code",
   "execution_count": 68,
   "id": "f5fa2c07-aea8-492b-8c89-f700beea0647",
   "metadata": {},
   "outputs": [
    {
     "data": {
      "text/html": [
       "<div>\n",
       "<style scoped>\n",
       "    .dataframe tbody tr th:only-of-type {\n",
       "        vertical-align: middle;\n",
       "    }\n",
       "\n",
       "    .dataframe tbody tr th {\n",
       "        vertical-align: top;\n",
       "    }\n",
       "\n",
       "    .dataframe thead th {\n",
       "        text-align: right;\n",
       "    }\n",
       "</style>\n",
       "<table border=\"1\" class=\"dataframe\">\n",
       "  <thead>\n",
       "    <tr style=\"text-align: right;\">\n",
       "      <th></th>\n",
       "      <th>longitude</th>\n",
       "      <th>latitude</th>\n",
       "      <th>housing_median_age</th>\n",
       "      <th>total_rooms</th>\n",
       "      <th>total_bedrooms</th>\n",
       "      <th>population</th>\n",
       "      <th>households</th>\n",
       "      <th>median_income</th>\n",
       "      <th>ocean_proximity_INLAND</th>\n",
       "      <th>ocean_proximity_ISLAND</th>\n",
       "      <th>ocean_proximity_NEAR BAY</th>\n",
       "      <th>ocean_proximity_NEAR OCEAN</th>\n",
       "    </tr>\n",
       "  </thead>\n",
       "  <tbody>\n",
       "    <tr>\n",
       "      <th>0</th>\n",
       "      <td>-122.23</td>\n",
       "      <td>37.88</td>\n",
       "      <td>41.0</td>\n",
       "      <td>880.0</td>\n",
       "      <td>129.0</td>\n",
       "      <td>322.0</td>\n",
       "      <td>126.0</td>\n",
       "      <td>8.3252</td>\n",
       "      <td>False</td>\n",
       "      <td>False</td>\n",
       "      <td>True</td>\n",
       "      <td>False</td>\n",
       "    </tr>\n",
       "    <tr>\n",
       "      <th>1</th>\n",
       "      <td>-122.22</td>\n",
       "      <td>37.86</td>\n",
       "      <td>21.0</td>\n",
       "      <td>7099.0</td>\n",
       "      <td>1106.0</td>\n",
       "      <td>2401.0</td>\n",
       "      <td>1138.0</td>\n",
       "      <td>8.3014</td>\n",
       "      <td>False</td>\n",
       "      <td>False</td>\n",
       "      <td>True</td>\n",
       "      <td>False</td>\n",
       "    </tr>\n",
       "  </tbody>\n",
       "</table>\n",
       "</div>"
      ],
      "text/plain": [
       "   longitude  latitude  housing_median_age  total_rooms  total_bedrooms  \\\n",
       "0    -122.23     37.88                41.0        880.0           129.0   \n",
       "1    -122.22     37.86                21.0       7099.0          1106.0   \n",
       "\n",
       "   population  households  median_income  ocean_proximity_INLAND  \\\n",
       "0       322.0       126.0         8.3252                   False   \n",
       "1      2401.0      1138.0         8.3014                   False   \n",
       "\n",
       "   ocean_proximity_ISLAND  ocean_proximity_NEAR BAY  \\\n",
       "0                   False                      True   \n",
       "1                   False                      True   \n",
       "\n",
       "   ocean_proximity_NEAR OCEAN  \n",
       "0                       False  \n",
       "1                       False  "
      ]
     },
     "execution_count": 68,
     "metadata": {},
     "output_type": "execute_result"
    }
   ],
   "source": [
    "X.head(2)"
   ]
  },
  {
   "cell_type": "code",
   "execution_count": 69,
   "id": "3b884a07-9c1e-4557-98fa-134360141593",
   "metadata": {},
   "outputs": [
    {
     "data": {
      "text/html": [
       "<div>\n",
       "<style scoped>\n",
       "    .dataframe tbody tr th:only-of-type {\n",
       "        vertical-align: middle;\n",
       "    }\n",
       "\n",
       "    .dataframe tbody tr th {\n",
       "        vertical-align: top;\n",
       "    }\n",
       "\n",
       "    .dataframe thead th {\n",
       "        text-align: right;\n",
       "    }\n",
       "</style>\n",
       "<table border=\"1\" class=\"dataframe\">\n",
       "  <thead>\n",
       "    <tr style=\"text-align: right;\">\n",
       "      <th></th>\n",
       "      <th>median_house_value</th>\n",
       "    </tr>\n",
       "  </thead>\n",
       "  <tbody>\n",
       "    <tr>\n",
       "      <th>0</th>\n",
       "      <td>452600.0</td>\n",
       "    </tr>\n",
       "    <tr>\n",
       "      <th>1</th>\n",
       "      <td>358500.0</td>\n",
       "    </tr>\n",
       "    <tr>\n",
       "      <th>2</th>\n",
       "      <td>352100.0</td>\n",
       "    </tr>\n",
       "    <tr>\n",
       "      <th>3</th>\n",
       "      <td>341300.0</td>\n",
       "    </tr>\n",
       "    <tr>\n",
       "      <th>4</th>\n",
       "      <td>342200.0</td>\n",
       "    </tr>\n",
       "  </tbody>\n",
       "</table>\n",
       "</div>"
      ],
      "text/plain": [
       "   median_house_value\n",
       "0            452600.0\n",
       "1            358500.0\n",
       "2            352100.0\n",
       "3            341300.0\n",
       "4            342200.0"
      ]
     },
     "execution_count": 69,
     "metadata": {},
     "output_type": "execute_result"
    }
   ],
   "source": [
    "y.head()"
   ]
  },
  {
   "cell_type": "markdown",
   "id": "69c0b01a-2c65-4dad-80a1-a3edcd04f962",
   "metadata": {},
   "source": [
    "## Train Test Split"
   ]
  },
  {
   "cell_type": "code",
   "execution_count": 70,
   "id": "d07e7079-0d79-48c8-895b-126770247e63",
   "metadata": {},
   "outputs": [
    {
     "name": "stdout",
     "output_type": "stream",
     "text": [
      "X_train: (16512, 12)\n",
      "X_test: (4128, 12)\n",
      "y_train: (16512, 1)\n",
      "y_test: (4128, 1)\n"
     ]
    }
   ],
   "source": [
    "X_train, X_test, y_train, y_test = train_test_split(X, y, test_size = 0.2)\n",
    "print(\"X_train: {}\".format(X_train.shape))\n",
    "print(\"X_test: {}\".format(X_test.shape))\n",
    "print(\"y_train: {}\".format(y_train.shape))\n",
    "print(\"y_test: {}\".format(y_test.shape))"
   ]
  },
  {
   "cell_type": "markdown",
   "id": "1a4a06c7-9e23-43ef-bd26-2477e634262d",
   "metadata": {},
   "source": [
    "## StandardScaler"
   ]
  },
  {
   "cell_type": "code",
   "execution_count": 71,
   "id": "414cf687-1389-4258-92e6-06fa8ac2c4eb",
   "metadata": {},
   "outputs": [],
   "source": [
    "scaler = StandardScaler()\n",
    "X_train_scaled = scaler.fit_transform(X_train)\n",
    "X_test_scaled = scaler.transform(X_test)"
   ]
  },
  {
   "cell_type": "code",
   "execution_count": 72,
   "id": "71172a3c-a30f-4065-ae05-c97e29910993",
   "metadata": {},
   "outputs": [
    {
     "data": {
      "text/plain": [
       "array([[-0.06698615,  0.51152457, -0.76465823, ..., -0.01348032,\n",
       "        -0.3562936 , -0.38483996],\n",
       "       [-0.07695147,  0.50684691, -1.08264035, ..., -0.01348032,\n",
       "        -0.3562936 , -0.38483996],\n",
       "       [-1.52192231,  1.21317296,  0.66626133, ..., -0.01348032,\n",
       "        -0.3562936 , -0.38483996],\n",
       "       ...,\n",
       "       [ 0.50103687, -0.67192239,  0.5867658 , ..., -0.01348032,\n",
       "        -0.3562936 , -0.38483996],\n",
       "       [-0.8691941 ,  1.1663964 , -1.87759566, ..., -0.01348032,\n",
       "        -0.3562936 , -0.38483996],\n",
       "       [ 0.9245628 , -0.75144254, -0.92364929, ..., -0.01348032,\n",
       "        -0.3562936 , -0.38483996]])"
      ]
     },
     "execution_count": 72,
     "metadata": {},
     "output_type": "execute_result"
    }
   ],
   "source": [
    "X_train_scaled"
   ]
  },
  {
   "cell_type": "markdown",
   "id": "a2036709-5668-4ec4-89a7-a2a6fab760ff",
   "metadata": {},
   "source": [
    "## Modelling "
   ]
  },
  {
   "cell_type": "code",
   "execution_count": 73,
   "id": "b599a05c-88ae-4acf-9fa4-6803a6251f8a",
   "metadata": {},
   "outputs": [],
   "source": [
    "models = [(\"Linear\",LinearRegression()),\n",
    "          (\"Ridge\",Ridge()), # Ridge L2 regression\n",
    "          (\"Lasso\",Lasso()), # L1\n",
    "          (\"ElasticNet\",ElasticNet()),\n",
    "          (\"KNN\",KNeighborsRegressor()),\n",
    "          (\"DTR\",DecisionTreeRegressor())\n",
    "          ]"
   ]
  },
  {
   "cell_type": "code",
   "execution_count": 74,
   "id": "2da46cf8-8a76-4e4c-92da-df2469110ab1",
   "metadata": {},
   "outputs": [],
   "source": [
    "finalResult = pd.DataFrame(columns=[\"Model\",\"MSE\",\"R2S\"]) # score\n",
    "\n",
    "for name,model in models:\n",
    "    model.fit(X_train_scaled,y_train) # training\n",
    "    y_pred = model.predict(X_test_scaled)\n",
    "    \n",
    "    mse = mean_squared_error(y_test,y_pred) #MSE\n",
    "    r2s = r2_score(y_test,y_pred) # r2_Score\n",
    "    \n",
    "    finalResult = pd.concat([finalResult,pd.DataFrame([[name,mse,r2s]],columns=[\"Model\",\"MSE\",\"R2S\"])],\n",
    "                               ignore_index=True)\n"
   ]
  },
  {
   "cell_type": "code",
   "execution_count": 75,
   "id": "11480051-5b1d-4219-8f41-2ad5e2791894",
   "metadata": {},
   "outputs": [
    {
     "data": {
      "text/html": [
       "<div>\n",
       "<style scoped>\n",
       "    .dataframe tbody tr th:only-of-type {\n",
       "        vertical-align: middle;\n",
       "    }\n",
       "\n",
       "    .dataframe tbody tr th {\n",
       "        vertical-align: top;\n",
       "    }\n",
       "\n",
       "    .dataframe thead th {\n",
       "        text-align: right;\n",
       "    }\n",
       "</style>\n",
       "<table border=\"1\" class=\"dataframe\">\n",
       "  <thead>\n",
       "    <tr style=\"text-align: right;\">\n",
       "      <th></th>\n",
       "      <th>Model</th>\n",
       "      <th>MSE</th>\n",
       "      <th>R2S</th>\n",
       "    </tr>\n",
       "  </thead>\n",
       "  <tbody>\n",
       "    <tr>\n",
       "      <th>0</th>\n",
       "      <td>Linear</td>\n",
       "      <td>4.832558e+09</td>\n",
       "      <td>0.629415</td>\n",
       "    </tr>\n",
       "    <tr>\n",
       "      <th>1</th>\n",
       "      <td>Ridge</td>\n",
       "      <td>4.832294e+09</td>\n",
       "      <td>0.629435</td>\n",
       "    </tr>\n",
       "    <tr>\n",
       "      <th>2</th>\n",
       "      <td>Lasso</td>\n",
       "      <td>4.832469e+09</td>\n",
       "      <td>0.629422</td>\n",
       "    </tr>\n",
       "    <tr>\n",
       "      <th>3</th>\n",
       "      <td>ElasticNet</td>\n",
       "      <td>5.709626e+09</td>\n",
       "      <td>0.562157</td>\n",
       "    </tr>\n",
       "    <tr>\n",
       "      <th>4</th>\n",
       "      <td>KNN</td>\n",
       "      <td>3.769445e+09</td>\n",
       "      <td>0.710940</td>\n",
       "    </tr>\n",
       "    <tr>\n",
       "      <th>5</th>\n",
       "      <td>DTR</td>\n",
       "      <td>4.820105e+09</td>\n",
       "      <td>0.630370</td>\n",
       "    </tr>\n",
       "  </tbody>\n",
       "</table>\n",
       "</div>"
      ],
      "text/plain": [
       "        Model           MSE       R2S\n",
       "0      Linear  4.832558e+09  0.629415\n",
       "1       Ridge  4.832294e+09  0.629435\n",
       "2       Lasso  4.832469e+09  0.629422\n",
       "3  ElasticNet  5.709626e+09  0.562157\n",
       "4         KNN  3.769445e+09  0.710940\n",
       "5         DTR  4.820105e+09  0.630370"
      ]
     },
     "execution_count": 75,
     "metadata": {},
     "output_type": "execute_result"
    }
   ],
   "source": [
    "finalResult"
   ]
  },
  {
   "cell_type": "markdown",
   "id": "7517b808-3bbc-467e-b61a-f58e19788242",
   "metadata": {},
   "source": [
    "## Hyperparameter Tuning : GridSearchCV"
   ]
  },
  {
   "cell_type": "code",
   "execution_count": 78,
   "id": "91006af7-e375-4b99-ae57-485502c42c5b",
   "metadata": {},
   "outputs": [],
   "source": [
    "model_params = {\n",
    "    \"Ridge\":{  # L2\n",
    "        \"model\":Ridge(),\n",
    "        \"params\":{\n",
    "          \"alpha\":[0.1,1,10,100]\n",
    "        }\n",
    "    },\n",
    "     \"Lasso\":{ # L1\n",
    "        \"model\":Lasso(max_iter=10000),\n",
    "        \"params\":{\n",
    "            \"alpha\":[0.1,1,10,100]\n",
    "        }\n",
    "    },\n",
    "      \"ElasticNet\":{ \n",
    "        \"model\":ElasticNet(),\n",
    "        \"params\":{\n",
    "           \"alpha\":[0.1,1,10],\n",
    "            \"l1_ratio\":[0.2,0.5,0.8]\n",
    "        }\n",
    "    },\n",
    "     \"KNN\":{\n",
    "        \"model\":KNeighborsRegressor(),\n",
    "        \"params\":{\n",
    "            \"n_neighbors\":np.arange(1,30,1)# [1,3,5,7,9,11]\n",
    "        }\n",
    "    },\n",
    "     \"DTR\":{\n",
    "        \"model\":DecisionTreeRegressor(),\n",
    "        \"params\":{\n",
    "            \"max_depth\": [5, 10, 15],  \n",
    "            \"min_samples_split\": [5, 10],  \n",
    "            \"min_samples_leaf\": [2, 5],\n",
    "        }\n",
    "    },\n",
    "}"
   ]
  },
  {
   "cell_type": "code",
   "execution_count": 83,
   "id": "0f6b184c-3a4d-4d4e-bb84-dcfde230954c",
   "metadata": {},
   "outputs": [],
   "source": [
    "scores = []\n",
    "columns = [\"model\", \"best_params\", \"best_score\", \"mse\",\"r2s\"]\n",
    "\n",
    "for model_name, params in model_params.items():\n",
    "    grid_search = GridSearchCV(estimator=params[\"model\"], \n",
    "                               param_grid=params[\"params\"], cv=5, n_jobs=-1)\n",
    "    grid_search.fit(X_train_scaled, y_train)\n",
    "    \n",
    "    y_pred = grid_search.predict(X_test_scaled)\n",
    "    mse_grid = mean_squared_error(y_test,y_pred) #MSE\n",
    "    r2s_grid = r2_score(y_test,y_pred) # r2_Score\n",
    "    \n",
    "    scores.append([model_name, dict(grid_search.best_params_), grid_search.best_score_,mse_grid,r2s_grid])\n",
    "\n",
    "df_scores = pd.DataFrame(scores, columns=columns)"
   ]
  },
  {
   "cell_type": "code",
   "execution_count": 84,
   "id": "a2dd5af2-46bf-4687-9351-775949b53df5",
   "metadata": {},
   "outputs": [
    {
     "data": {
      "text/html": [
       "<div>\n",
       "<style scoped>\n",
       "    .dataframe tbody tr th:only-of-type {\n",
       "        vertical-align: middle;\n",
       "    }\n",
       "\n",
       "    .dataframe tbody tr th {\n",
       "        vertical-align: top;\n",
       "    }\n",
       "\n",
       "    .dataframe thead th {\n",
       "        text-align: right;\n",
       "    }\n",
       "</style>\n",
       "<table border=\"1\" class=\"dataframe\">\n",
       "  <thead>\n",
       "    <tr style=\"text-align: right;\">\n",
       "      <th></th>\n",
       "      <th>model</th>\n",
       "      <th>best_params</th>\n",
       "      <th>best_score</th>\n",
       "      <th>mse</th>\n",
       "      <th>r2s</th>\n",
       "    </tr>\n",
       "  </thead>\n",
       "  <tbody>\n",
       "    <tr>\n",
       "      <th>0</th>\n",
       "      <td>Ridge</td>\n",
       "      <td>{'alpha': 10}</td>\n",
       "      <td>0.647790</td>\n",
       "      <td>4.830020e+09</td>\n",
       "      <td>0.629609</td>\n",
       "    </tr>\n",
       "    <tr>\n",
       "      <th>1</th>\n",
       "      <td>Lasso</td>\n",
       "      <td>{'alpha': 10}</td>\n",
       "      <td>0.647779</td>\n",
       "      <td>4.831680e+09</td>\n",
       "      <td>0.629482</td>\n",
       "    </tr>\n",
       "    <tr>\n",
       "      <th>2</th>\n",
       "      <td>ElasticNet</td>\n",
       "      <td>{'alpha': 0.1, 'l1_ratio': 0.8}</td>\n",
       "      <td>0.645096</td>\n",
       "      <td>4.808112e+09</td>\n",
       "      <td>0.631289</td>\n",
       "    </tr>\n",
       "    <tr>\n",
       "      <th>3</th>\n",
       "      <td>KNN</td>\n",
       "      <td>{'n_neighbors': 11}</td>\n",
       "      <td>0.724260</td>\n",
       "      <td>3.631490e+09</td>\n",
       "      <td>0.721519</td>\n",
       "    </tr>\n",
       "    <tr>\n",
       "      <th>4</th>\n",
       "      <td>DTR</td>\n",
       "      <td>{'max_depth': 10, 'min_samples_leaf': 5, 'min_...</td>\n",
       "      <td>0.728196</td>\n",
       "      <td>3.514962e+09</td>\n",
       "      <td>0.730455</td>\n",
       "    </tr>\n",
       "  </tbody>\n",
       "</table>\n",
       "</div>"
      ],
      "text/plain": [
       "        model                                        best_params  best_score  \\\n",
       "0       Ridge                                      {'alpha': 10}    0.647790   \n",
       "1       Lasso                                      {'alpha': 10}    0.647779   \n",
       "2  ElasticNet                    {'alpha': 0.1, 'l1_ratio': 0.8}    0.645096   \n",
       "3         KNN                                {'n_neighbors': 11}    0.724260   \n",
       "4         DTR  {'max_depth': 10, 'min_samples_leaf': 5, 'min_...    0.728196   \n",
       "\n",
       "            mse       r2s  \n",
       "0  4.830020e+09  0.629609  \n",
       "1  4.831680e+09  0.629482  \n",
       "2  4.808112e+09  0.631289  \n",
       "3  3.631490e+09  0.721519  \n",
       "4  3.514962e+09  0.730455  "
      ]
     },
     "execution_count": 84,
     "metadata": {},
     "output_type": "execute_result"
    }
   ],
   "source": [
    "df_scores"
   ]
  },
  {
   "cell_type": "code",
   "execution_count": 86,
   "id": "fcff333c-4186-4c1e-9538-c1593456259f",
   "metadata": {},
   "outputs": [
    {
     "data": {
      "text/plain": [
       "{'max_depth': 10, 'min_samples_leaf': 5, 'min_samples_split': 5}"
      ]
     },
     "execution_count": 86,
     "metadata": {},
     "output_type": "execute_result"
    }
   ],
   "source": [
    "df_scores.iloc[4][\"best_params\"]"
   ]
  },
  {
   "cell_type": "markdown",
   "id": "1577eb72-69b5-4385-9649-bf8e2c6dcfd5",
   "metadata": {},
   "source": [
    "## Final Models : DecisionTreeRegressor (DTR) (CART)"
   ]
  },
  {
   "cell_type": "code",
   "execution_count": 87,
   "id": "879298e7-2c0d-4dd9-b7bd-095247c73fbd",
   "metadata": {},
   "outputs": [],
   "source": [
    "dtr_tuned_model = DecisionTreeRegressor(max_depth=10,\n",
    "                                        min_samples_leaf=5,\n",
    "                                        min_samples_split=5).fit(X_train_scaled,y_train)"
   ]
  },
  {
   "cell_type": "code",
   "execution_count": 88,
   "id": "c926c680-fb8c-4141-9e43-a2402af0954a",
   "metadata": {},
   "outputs": [],
   "source": [
    "y_pred_final = dtr_tuned_model.predict(X_test_scaled)\n",
    "\n",
    "mse_final = mean_squared_error(y_test,y_pred_final) #MSE\n",
    "r2s_final = r2_score(y_test,y_pred_final) # r2_Score"
   ]
  },
  {
   "cell_type": "code",
   "execution_count": 89,
   "id": "d221b480-0e7f-46ac-9264-4de6c76c2630",
   "metadata": {},
   "outputs": [
    {
     "name": "stdout",
     "output_type": "stream",
     "text": [
      "Final DTR Model - MSE: 3509891233.75, R²: 0.7308\n"
     ]
    }
   ],
   "source": [
    "print(f\"Final DTR Model - MSE: {mse_final:.2f}, R²: {r2s_final:.4f}\")"
   ]
  },
  {
   "cell_type": "code",
   "execution_count": 101,
   "id": "d19712da-48fe-4897-9845-3a814b36da1b",
   "metadata": {},
   "outputs": [
    {
     "name": "stdout",
     "output_type": "stream",
     "text": [
      "Decision Tree Depth: 10\n",
      "Decision Tree Number of Leaves: 555\n"
     ]
    }
   ],
   "source": [
    "print(f\"Decision Tree Depth: {dtr_tuned_model.get_depth()}\")\n",
    "print(f\"Decision Tree Number of Leaves: {dtr_tuned_model.get_n_leaves()}\")"
   ]
  },
  {
   "cell_type": "code",
   "execution_count": 110,
   "id": "995b21fe-97c6-42e2-b389-c2d90856a1da",
   "metadata": {},
   "outputs": [
    {
     "data": {
      "text/plain": [
       "Index(['longitude', 'latitude', 'housing_median_age', 'total_rooms',\n",
       "       'total_bedrooms', 'population', 'households', 'median_income',\n",
       "       'median_house_value', 'ocean_proximity_INLAND',\n",
       "       'ocean_proximity_ISLAND', 'ocean_proximity_NEAR BAY',\n",
       "       'ocean_proximity_NEAR OCEAN'],\n",
       "      dtype='object')"
      ]
     },
     "execution_count": 110,
     "metadata": {},
     "output_type": "execute_result"
    }
   ],
   "source": [
    "df.columns"
   ]
  },
  {
   "cell_type": "code",
   "execution_count": 109,
   "id": "9b17d47f-51f1-47d4-8c61-10a71aa5ea92",
   "metadata": {},
   "outputs": [
    {
     "data": {
      "image/png": "[encoded data removed]",
      "text/plain": [
       "<Figure size 640x480 with 1 Axes>"
      ]
     },
     "metadata": {},
     "output_type": "display_data"
    }
   ],
   "source": [
    "feature_imp = pd.Series(dtr_tuned_model.feature_importances_,\n",
    "                         index= df.drop(columns=[\"median_house_value\"]).columns).sort_values(ascending=False)\n",
    "\n",
    "sns.barplot(x = feature_imp,y=feature_imp.index,color=\"skyblue\")\n",
    "plt.xlabel(\"Feature Importance Scores\")\n",
    "plt.ylabel(\"Features\")\n",
    "plt.title(\"Feature Importance Levels\")\n",
    "plt.show()"
   ]
  },
  {
   "cell_type": "code",
   "execution_count": null,
   "id": "d0305be3-cad1-498e-9c9f-a9d231350873",
   "metadata": {},
   "outputs": [],
   "source": []
  }
 ],
 "metadata": {
  "kernelspec": {
   "display_name": "Python 3 (ipykernel)",
   "language": "python",
   "name": "python3"
  },
  "language_info": {
   "codemirror_mode": {
    "name": "ipython",
    "version": 3
   },
   "file_extension": ".py",
   "mimetype": "text/x-python",
   "name": "python",
   "nbconvert_exporter": "python",
   "pygments_lexer": "ipython3",
   "version": "3.11.1"
  }
 },
 "nbformat": 4,
 "nbformat_minor": 5
}
